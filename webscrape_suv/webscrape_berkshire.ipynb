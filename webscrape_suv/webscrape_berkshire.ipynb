{
 "cells": [
  {
   "cell_type": "code",
   "execution_count": 1,
   "metadata": {},
   "outputs": [],
   "source": [
    "import pandas as pd\n",
    "import numpy as np\n",
    "\n",
    "from selenium import webdriver\n",
    "from selenium.common.exceptions import NoSuchElementException\n",
    "from bs4 import BeautifulSoup\n",
    "from requests_html import HTMLSession\n",
    "\n",
    "import time"
   ]
  },
  {
   "cell_type": "code",
   "execution_count": 2,
   "metadata": {},
   "outputs": [],
   "source": [
    "driver = webdriver.Chrome(executable_path='C:/Users/17178/Downloads/chromedriver_win32/chromedriver.exe')\n",
    "driver.get(\n",
    "    'https://www.berkshirehathawayautomotive.com/used-inventory/index.htm?normalBodyStyle=SUV&compositeType=used&start=0')\n",
    "content = driver.page_source\n",
    "soup = BeautifulSoup(content)"
   ]
  },
  {
   "cell_type": "code",
   "execution_count": 3,
   "metadata": {},
   "outputs": [
    {
     "data": {
      "text/plain": [
       "3403"
      ]
     },
     "execution_count": 3,
     "metadata": {},
     "output_type": "execute_result"
    }
   ],
   "source": [
    "counter = []\n",
    "\n",
    "for element in soup.findAll('span', {'class': 'd-none d-sm-inline'}):\n",
    "    counter.append([int(s) for s in element.contents[0] if s.isdigit()])\n",
    "    \n",
    "def convert(counter):\n",
    "      \n",
    "    # Converting integer list to string list\n",
    "    s = [str(i) for i in counter[0]]\n",
    "      \n",
    "    # Join list items using join()\n",
    "    res = int(\"\".join(s))\n",
    "      \n",
    "    return(res)\n",
    "\n",
    "#number of used cars for sale\n",
    "counter = convert(counter)\n",
    "counter"
   ]
  },
  {
   "cell_type": "code",
   "execution_count": null,
   "metadata": {},
   "outputs": [],
   "source": [
    "for i in range(0,counter+1,18):\n",
    "    driver.get(\n",
    "        f'https://www.berkshirehathawayautomotive.com/used-inventory/index.htm?normalBodyStyle=SUV&compositeType=used&start={i}')\n",
    "    content = driver.page_source\n",
    "    soup = BeautifulSoup(content)\n",
    "\n",
    "    results_year_make = []\n",
    "    results_miles  = []\n",
    "    results_price = []\n",
    "    results_state = []\n",
    "    results_source = []\n",
    "\n",
    "    for element in soup.findAll('div', {'class': 'ddc-wrapper'}):\n",
    "        for year_make in element.findAll('span', {'class': 'ddc-font-size-small'}):\n",
    "            results_year_make.append(year_make.contents[0])\n",
    "        for price in element.findAll('span', {'class': 'text-right portal-price'}):\n",
    "            try:\n",
    "                results_price.append(price.contents[0])\n",
    "            except:\n",
    "                results_price.append(np.nan)\n",
    "            results_source = 'berkshire'\n",
    "        for miles in element.findAll('li', {'class': 'odometer'}):\n",
    "            results_miles.append(miles.contents[0])\n",
    "        for state in element.findAll('li', {'class': 'accountName'}):\n",
    "            results_state.append(state.contents[0])\n",
    "        \n",
    "        df_temp = pd.DataFrame(\n",
    "                    {'year_make': results_year_make,\n",
    "                     'model_trim': 'missing',\n",
    "                     'price': results_price,\n",
    "                     'state': results_state,\n",
    "                     'miles': results_miles,\n",
    "                     'source': results_source\n",
    "                    })\n",
    "\n",
    "\n",
    "        df_temp['miles'] = df_temp['miles'].replace({'\\,':''}, regex=True)\n",
    "        try:\n",
    "            df_temp['miles'] = df_temp['miles'].str.extract('([0-9]+)').astype(float)\n",
    "        except:\n",
    "            df_temp['miles'] = 'missing'\n",
    "\n",
    "#         df_temp['price'] = df_temp['price'].replace({'\\$':''}, regex=True)\n",
    "#         df_temp['price'] = df_temp['price'].replace({',':''}, regex=True)\n",
    "\n",
    "        if i == 0:\n",
    "            df = df_temp\n",
    "        else:\n",
    "            df = pd.merge(df, df_temp, how='outer')\n",
    "            del df_temp\n",
    "\n",
    "df.to_csv(f'C:/Users/17178/Documents/DS Projects/Nitorum Case/Data/berkshire_suv.csv')\n",
    "df"
   ]
  },
  {
   "cell_type": "code",
   "execution_count": null,
   "metadata": {},
   "outputs": [],
   "source": [
    "df.isnull().sum()"
   ]
  }
 ],
 "metadata": {
  "kernelspec": {
   "display_name": "learn-env",
   "language": "python",
   "name": "learn-env"
  },
  "language_info": {
   "codemirror_mode": {
    "name": "ipython",
    "version": 3
   },
   "file_extension": ".py",
   "mimetype": "text/x-python",
   "name": "python",
   "nbconvert_exporter": "python",
   "pygments_lexer": "ipython3",
   "version": "3.8.5"
  }
 },
 "nbformat": 4,
 "nbformat_minor": 4
}
